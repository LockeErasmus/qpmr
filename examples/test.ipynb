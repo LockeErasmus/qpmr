{
 "cells": [
  {
   "cell_type": "code",
   "execution_count": 2,
   "metadata": {},
   "outputs": [],
   "source": [
    "import numpy as np\n",
    "import matplotlib.pyplot as plt\n",
    "from qpmr.quasipoly.core import _eval_array"
   ]
  },
  {
   "cell_type": "code",
   "execution_count": 15,
   "metadata": {},
   "outputs": [],
   "source": [
    "delays = np.array([0.0, 0.45])\n",
    "coefs = np.array([[0, 1],[1, 0]])\n",
    "matlab_roots = np.array([-0.3181 + 1.3372j,\n",
    "                         -2.0623 + 7.5886j,\n",
    "                         -2.6532 +13.9492j,\n",
    "                         -3.0202 +20.2725j,\n",
    "                         -3.2878 +26.5805j,])"
   ]
  },
  {
   "cell_type": "code",
   "execution_count": 80,
   "metadata": {},
   "outputs": [],
   "source": [
    "np.random.seed(40)\n",
    "s = np.random.rand(5,5) + 1j * np.ones(shape=(5,5))"
   ]
  },
  {
   "cell_type": "code",
   "execution_count": 81,
   "metadata": {},
   "outputs": [],
   "source": [
    "r1 = _eval_array(coefs, delays, s)"
   ]
  },
  {
   "cell_type": "code",
   "execution_count": 82,
   "metadata": {},
   "outputs": [],
   "source": [
    "def _eval_array_opt(coefs, delays, s):\n",
    "    _memory = np.ones_like(s)\n",
    "    # solve degree 0\n",
    "    dels = np.exp(- s[..., np.newaxis] * delays[np.newaxis, ...])\n",
    "    result = np.sum(dels * coefs[:, 0], -1)\n",
    "    print(_memory)\n",
    "    print(result)\n",
    "    print(20*\"-\")\n",
    "    for d in range(1, coefs.shape[1]): # solve other degrees\n",
    "        _memory *= s # elementwise multiplication\n",
    "        result += np.multiply(_memory, np.sum(dels * coefs[:, d], -1))\n",
    "        print(_memory)\n",
    "        print(result)\n",
    "        print(f\"{s=}\")\n",
    "        print(20*\"-\")\n",
    "    return result"
   ]
  },
  {
   "cell_type": "code",
   "execution_count": null,
   "metadata": {},
   "outputs": [],
   "source": []
  },
  {
   "cell_type": "code",
   "execution_count": 83,
   "metadata": {},
   "outputs": [
    {
     "name": "stdout",
     "output_type": "stream",
     "text": [
      "[[1.+0.j 1.+0.j 1.+0.j 1.+0.j 1.+0.j]\n",
      " [1.+0.j 1.+0.j 1.+0.j 1.+0.j 1.+0.j]\n",
      " [1.+0.j 1.+0.j 1.+0.j 1.+0.j 1.+0.j]\n",
      " [1.+0.j 1.+0.j 1.+0.j 1.+0.j 1.+0.j]\n",
      " [1.+0.j 1.+0.j 1.+0.j 1.+0.j 1.+0.j]]\n",
      "[[0.74951944-0.36205916j 0.87828988-0.42426238j 0.63147018-0.30503487j\n",
      "  0.79124218-0.38221354j 0.73526697-0.35517443j]\n",
      " [0.7853511 -0.37936783j 0.71053033-0.34322528j 0.68005653-0.32850475j\n",
      "  0.63482062-0.30665331j 0.6612174 -0.31940441j]\n",
      " [0.57909639-0.27973544j 0.68713046-0.33192185j 0.62428412-0.30156361j\n",
      "  0.65458477-0.31620049j 0.88935885-0.4296093j ]\n",
      " [0.59942519-0.28955537j 0.73541446-0.35524568j 0.85352542-0.41229978j\n",
      "  0.61832014-0.29868267j 0.82211453-0.39712659j]\n",
      " [0.83255578-0.40217029j 0.73566528-0.35536684j 0.66612928-0.32177712j\n",
      "  0.58526329-0.2827144j  0.61886766-0.29894716j]]\n",
      "--------------------\n",
      "[[0.40768703+1.j 0.05536604+1.j 0.78853488+1.j 0.28730518+1.j\n",
      "  0.45035059+1.j]\n",
      " [0.30391231+1.j 0.52639952+1.j 0.62381221+1.j 0.77677546+1.j\n",
      "  0.68624165+1.j]\n",
      " [0.98093886+1.j 0.60081609+1.j 0.81396852+1.j 0.70864515+1.j\n",
      "  0.02753468+1.j]\n",
      " [0.90426722+1.j 0.44990485+1.j 0.11892465+1.j 0.83530018+1.j\n",
      "  0.20224823+1.j]\n",
      " [0.17420267+1.j 0.44914708+1.j 0.66979478+1.j 0.95739911+1.j\n",
      "  0.83333325+1.j]]\n",
      "[[1.15720647+0.63794084j 0.93365592+0.57573762j 1.42000506+0.69496513j\n",
      "  1.07854736+0.61778646j 1.18561756+0.64482557j]\n",
      " [1.08926341+0.62063217j 1.23692985+0.65677472j 1.30386874+0.67149525j\n",
      "  1.41159607+0.69334669j 1.34745904+0.68059559j]\n",
      " [1.56003525+0.72026456j 1.28794656+0.66807815j 1.43825264+0.69843639j\n",
      "  1.36322993+0.68379951j 0.91689353+0.5703907j ]\n",
      " [1.5036924 +0.71044463j 1.18531932+0.64475432j 0.97245007+0.58770022j\n",
      "  1.45362031+0.70131733j 1.02436276+0.60287341j]\n",
      " [1.00675845+0.59782971j 1.18481236+0.64463316j 1.33592406+0.67822288j\n",
      "  1.5426624 +0.7172856j  1.45220091+0.70105284j]]\n",
      "s=array([[0.40768703+1.j, 0.05536604+1.j, 0.78853488+1.j, 0.28730518+1.j,\n",
      "        0.45035059+1.j],\n",
      "       [0.30391231+1.j, 0.52639952+1.j, 0.62381221+1.j, 0.77677546+1.j,\n",
      "        0.68624165+1.j],\n",
      "       [0.98093886+1.j, 0.60081609+1.j, 0.81396852+1.j, 0.70864515+1.j,\n",
      "        0.02753468+1.j],\n",
      "       [0.90426722+1.j, 0.44990485+1.j, 0.11892465+1.j, 0.83530018+1.j,\n",
      "        0.20224823+1.j],\n",
      "       [0.17420267+1.j, 0.44914708+1.j, 0.66979478+1.j, 0.95739911+1.j,\n",
      "        0.83333325+1.j]])\n",
      "--------------------\n"
     ]
    }
   ],
   "source": [
    "r2 = _eval_array_opt(coefs, delays, s)"
   ]
  },
  {
   "cell_type": "code",
   "execution_count": 84,
   "metadata": {},
   "outputs": [
    {
     "data": {
      "text/plain": [
       "array([[0.+0.j, 0.+0.j, 0.+0.j, 0.+0.j, 0.+0.j],\n",
       "       [0.+0.j, 0.+0.j, 0.+0.j, 0.+0.j, 0.+0.j],\n",
       "       [0.+0.j, 0.+0.j, 0.+0.j, 0.+0.j, 0.+0.j],\n",
       "       [0.+0.j, 0.+0.j, 0.+0.j, 0.+0.j, 0.+0.j],\n",
       "       [0.+0.j, 0.+0.j, 0.+0.j, 0.+0.j, 0.+0.j]])"
      ]
     },
     "execution_count": 84,
     "metadata": {},
     "output_type": "execute_result"
    }
   ],
   "source": [
    "r1 - r2"
   ]
  },
  {
   "cell_type": "code",
   "execution_count": 59,
   "metadata": {},
   "outputs": [],
   "source": [
    "_memory = np.ones_like(s)\n",
    "# solve degree 0\n",
    "dels = np.exp(- s[..., np.newaxis] * delays[np.newaxis, ...])\n"
   ]
  },
  {
   "cell_type": "code",
   "execution_count": 62,
   "metadata": {},
   "outputs": [
    {
     "data": {
      "text/plain": [
       "array([[0.        +0.j        , 0.74951944-0.36205916j],\n",
       "       [0.        +0.j        , 0.87828988-0.42426238j],\n",
       "       [0.        +0.j        , 0.63147018-0.30503487j],\n",
       "       [0.        +0.j        , 0.79124218-0.38221354j],\n",
       "       [0.        +0.j        , 0.73526697-0.35517443j]])"
      ]
     },
     "execution_count": 62,
     "metadata": {},
     "output_type": "execute_result"
    }
   ],
   "source": [
    "dels * coefs[:, 0]"
   ]
  },
  {
   "cell_type": "code",
   "execution_count": 63,
   "metadata": {},
   "outputs": [
    {
     "data": {
      "text/plain": [
       "array([[1.        -0.j        , 0.74951944-0.36205916j],\n",
       "       [1.        -0.j        , 0.87828988-0.42426238j],\n",
       "       [1.        -0.j        , 0.63147018-0.30503487j],\n",
       "       [1.        -0.j        , 0.79124218-0.38221354j],\n",
       "       [1.        -0.j        , 0.73526697-0.35517443j]])"
      ]
     },
     "execution_count": 63,
     "metadata": {},
     "output_type": "execute_result"
    }
   ],
   "source": [
    "dels"
   ]
  },
  {
   "cell_type": "code",
   "execution_count": null,
   "metadata": {},
   "outputs": [],
   "source": [
    "result = np.sum(dels * coefs[:, 0], axis=-1)\n",
    "print(result)\n",
    "for d in range(1, coefs.shape[1]): # solve other degrees\n",
    "    _memory *= s # elementwise multiplication\n",
    "    dels = np.exp(- _memory[..., np.newaxis] * delays[np.newaxis, ...])\n",
    "    result += np.sum(dels * coefs[:, [d]].T, -1)"
   ]
  }
 ],
 "metadata": {
  "kernelspec": {
   "display_name": ".venv",
   "language": "python",
   "name": "python3"
  },
  "language_info": {
   "codemirror_mode": {
    "name": "ipython",
    "version": 3
   },
   "file_extension": ".py",
   "mimetype": "text/x-python",
   "name": "python",
   "nbconvert_exporter": "python",
   "pygments_lexer": "ipython3",
   "version": "3.10.9"
  }
 },
 "nbformat": 4,
 "nbformat_minor": 2
}
